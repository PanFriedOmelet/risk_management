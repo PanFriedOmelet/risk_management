{
 "cells": [
  {
   "cell_type": "code",
   "execution_count": 116,
   "metadata": {},
   "outputs": [],
   "source": [
    "import numpy as np\n",
    "import pandas as pd\n",
    "from scipy import stats"
   ]
  },
  {
   "cell_type": "code",
   "execution_count": 117,
   "metadata": {},
   "outputs": [
    {
     "data": {
      "text/plain": [
       "3.719016485455709"
      ]
     },
     "execution_count": 117,
     "metadata": {},
     "output_type": "execute_result"
    }
   ],
   "source": [
    "# The quantile function is simply the inverse CDF of a distribution\n",
    "stats.norm.ppf(0.9999)"
   ]
  },
  {
   "cell_type": "code",
   "execution_count": 118,
   "metadata": {},
   "outputs": [],
   "source": [
    "# Value at Risk\n",
    "def var_para(distribution, alpha=0.05, **kwargs):\n",
    "    var = distribution.ppf(q=alpha,**kwargs)\n",
    "    return var"
   ]
  },
  {
   "cell_type": "code",
   "execution_count": 149,
   "metadata": {},
   "outputs": [],
   "source": [
    "# Expected Shortfall\n",
    "def ES_para( distribution, alpha, **kwargs):\n",
    "    level = 1 - alpha\n",
    "    VAR = var_para(distribution,alpha=alpha,**kwargs)\n",
    "    if isinstance(distribution, stats.rv_discrete):\n",
    "        First_term = distribution.expect(lambda x: -x, ub=VAR, conditional=True, args=(kwargs.values()) ) # mind the order of value in \"kwargs\"\n",
    "    else: First_term = distribution.expect(lambda x: -x, ub=VAR, conditional=True,**kwargs ) # Thanks to an amazing library - scipy\n",
    "    alpha_hat = 1 - distribution.cdf(distribution.ppf(1-alpha,**kwargs ),**kwargs )\n",
    "    Second_term = -VAR*( alpha_hat - alpha )\n",
    "    \n",
    "    ES = -(First_term + Second_term)\n",
    "    return ES"
   ]
  },
  {
   "cell_type": "code",
   "execution_count": 120,
   "metadata": {},
   "outputs": [
    {
     "name": "stdout",
     "output_type": "stream",
     "text": [
      "The value at risk of the standard normal distribution at 95% confidentblevel is -1.6448536269514729\n",
      "The expected shortfall of the standard normal distribution at 95% confidentblevel is -2.0627128078189143\n"
     ]
    }
   ],
   "source": [
    "print(\"The value at risk of the standard normal distribution at 95% confidentblevel is\", var_para(stats.norm,alpha=0.05))\n",
    "print(\"The expected shortfall of the standard normal distribution at 95% confidentblevel is\", ES_para(stats.norm,alpha=0.05))"
   ]
  },
  {
   "cell_type": "markdown",
   "metadata": {},
   "source": [
    "## Let's compare\n",
    "\n",
    "The parametric method and the non-parametric method\n",
    "- First, simulate random numbers with a specific distribution\n",
    "- use the non-parametric method with the numbers and compare with the parametric method"
   ]
  },
  {
   "cell_type": "code",
   "execution_count": 121,
   "metadata": {},
   "outputs": [],
   "source": [
    "# non parametric\n",
    "\n",
    "# V@R\n",
    "def var_non_para(data, alpha):\n",
    "    data = np.array(data)\n",
    "    sorted_data = np.sort(data)\n",
    "    \n",
    "    arange_data = np.arange(len(data))\n",
    "    percentile_sorted_data = arange_data/(len(data)-1)\n",
    "\n",
    "    if max(percentile_sorted_data) <= alpha: # max(percentile_sorted_data) is 1\n",
    "        integer = len(data) - 1\n",
    "        partial = 0\n",
    "        sorted_data = np.append(sorted_data, sorted_data[-1])\n",
    "\n",
    "    elif min(percentile_sorted_data) >= alpha:\n",
    "        integer = 0 # This is because we do not know the minimum value, so we assume that the minimum value is the smallest sample\n",
    "        partial = 0\n",
    "\n",
    "    else:\n",
    "        for i in range(1,len(data)):\n",
    "            if (percentile_sorted_data[i] > alpha):\n",
    "                partial = (alpha-percentile_sorted_data[i-1])/(percentile_sorted_data[i] - percentile_sorted_data[i-1]) # assume that the risk between two samples is uniform\n",
    "                integer = i - 1\n",
    "                break\n",
    "            \n",
    "            elif (percentile_sorted_data[i] == alpha):\n",
    "                integer = i \n",
    "                partial = 0\n",
    "                break\n",
    "\n",
    "    var = sorted_data[integer] + (sorted_data[integer + 1] - sorted_data[integer]) * partial\n",
    "    return var\n",
    "\n",
    "def ES_non_para(data, alpha):\n",
    "    data = np.array(data)\n",
    "    sorted_data = np.sort(data)\n",
    "\n",
    "    var = var_non_para(data, alpha)\n",
    "\n",
    "    prob_left_risk = len(sorted_data[sorted_data <= var])/len(sorted_data)\n",
    "    for i in range(1,len(sorted_data)):\n",
    "        if (sorted_data[i] > var):\n",
    "            partial_prob_left_risk = (var - sorted_data[i-1])/(sorted_data[i] - sorted_data[i-1]) * ( 1 / len(sorted_data) )\n",
    "            partial_prob_right_risk = (sorted_data[i] - var)/(sorted_data[i] - sorted_data[i-1]) * ( 1 / len(sorted_data) )\n",
    "            break\n",
    "        \n",
    "        elif (sorted_data[i] == var):\n",
    "            partial_prob_left_risk = 0\n",
    "            partial_prob_right_risk = 0\n",
    "            break\n",
    "        \n",
    "    numerator = (-np.sum(sorted_data[sorted_data <= var])/len(sorted_data) - (var * partial_prob_right_risk) ) + ( var * ( (prob_left_risk + partial_prob_left_risk) - alpha ) )\n",
    "    return -numerator/(alpha)"
   ]
  },
  {
   "cell_type": "markdown",
   "metadata": {},
   "source": [
    "### Exponential Distribution"
   ]
  },
  {
   "cell_type": "code",
   "execution_count": 122,
   "metadata": {},
   "outputs": [
    {
     "name": "stdout",
     "output_type": "stream",
     "text": [
      "The value at risk by the simulation method is  0.21109151861322278\n",
      "The expected shortfall by the simulation method is  0.10405204792909421\n",
      "The value at risk by the parametric method is  0.21072103131565262\n",
      "The expected shortfall by the parametric method is  0.1035107181591266\n"
     ]
    }
   ],
   "source": [
    "# random numbers\n",
    "np.random.seed(42)\n",
    "rand_expo = np.random.exponential(scale=2, size=1000000)\n",
    "\n",
    "VAR_expo_sim = var_non_para(rand_expo,alpha=0.1)\n",
    "ES_expo_sim = ES_non_para(rand_expo,alpha=0.1)\n",
    "print(\"The value at risk by the simulation method is \", VAR_expo_sim)\n",
    "print(\"The expected shortfall by the simulation method is \", ES_expo_sim)\n",
    "\n",
    "VAR_expo_para = var_para(stats.expon,scale=2,alpha=0.1)\n",
    "ES_expo_para = ES_para(stats.expon,scale=2,alpha=0.1)\n",
    "print(\"The value at risk by the parametric method is \", VAR_expo_para)\n",
    "print(\"The expected shortfall by the parametric method is \", ES_expo_para)"
   ]
  },
  {
   "cell_type": "markdown",
   "metadata": {},
   "source": [
    "### Normal Distribution"
   ]
  },
  {
   "cell_type": "code",
   "execution_count": 123,
   "metadata": {},
   "outputs": [
    {
     "name": "stdout",
     "output_type": "stream",
     "text": [
      "The value at risk by the simulation method is  3.714523869376157\n",
      "The expected shortfall by the simulation method is  3.24099416464966\n",
      "The value at risk by the parametric method is  3.7184484344553996\n",
      "The expected shortfall by the parametric method is  3.245016680675133\n"
     ]
    }
   ],
   "source": [
    "rand_norm = np.random.normal(loc=5,scale=1, size=1000000)\n",
    "\n",
    "VAR_norm_sim = var_non_para(rand_norm,alpha=0.1)\n",
    "ES_norm_sim = ES_non_para(rand_norm,alpha=0.1)\n",
    "print(\"The value at risk by the simulation method is \", VAR_norm_sim)\n",
    "print(\"The expected shortfall by the simulation method is \", ES_norm_sim)\n",
    "\n",
    "VAR_norm_para = var_para(stats.norm, loc=5, scale=1, alpha=0.1)\n",
    "ES_norm_para = ES_para(stats.norm, loc=5, scale=1, alpha=0.1)\n",
    "print(\"The value at risk by the parametric method is \", VAR_norm_para)\n",
    "print(\"The expected shortfall by the parametric method is \", ES_norm_para)"
   ]
  },
  {
   "cell_type": "markdown",
   "metadata": {},
   "source": [
    "### Binomial Distribution"
   ]
  },
  {
   "cell_type": "code",
   "execution_count": 151,
   "metadata": {},
   "outputs": [
    {
     "name": "stdout",
     "output_type": "stream",
     "text": [
      "The value at risk by the simulation method is  86.0\n",
      "The expected shortfall by the simulation method is  81.95609\n",
      "The value at risk by the parametric method is  86.0\n",
      "The expected shortfall by the parametric method is  82.4170731911514\n"
     ]
    }
   ],
   "source": [
    "rand_bin = np.random.binomial(n=300,p=0.32,size=1000000)\n",
    "\n",
    "VAR_bin_sim = var_non_para(rand_bin,alpha=0.1)\n",
    "ES_bin_sim = ES_non_para(rand_bin,alpha=0.1)\n",
    "print(\"The value at risk by the simulation method is \", VAR_bin_sim)\n",
    "print(\"The expected shortfall by the simulation method is \", ES_bin_sim)\n",
    "\n",
    "VAR_bin_para = var_para(stats.binom, n=300, p=0.32, alpha=0.1)\n",
    "ES_bin_para = ES_para(stats.binom, n=300, p=0.32, alpha=0.1)\n",
    "print(\"The value at risk by the parametric method is \", VAR_bin_para)\n",
    "print(\"The expected shortfall by the parametric method is \", ES_bin_para)"
   ]
  }
 ],
 "metadata": {
  "kernelspec": {
   "display_name": "base",
   "language": "python",
   "name": "python3"
  },
  "language_info": {
   "codemirror_mode": {
    "name": "ipython",
    "version": 3
   },
   "file_extension": ".py",
   "mimetype": "text/x-python",
   "name": "python",
   "nbconvert_exporter": "python",
   "pygments_lexer": "ipython3",
   "version": "3.11.5"
  }
 },
 "nbformat": 4,
 "nbformat_minor": 2
}
