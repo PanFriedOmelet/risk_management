{
 "cells": [
  {
   "cell_type": "code",
   "execution_count": 1,
   "metadata": {},
   "outputs": [],
   "source": [
    "import numpy as np\n",
    "import pandas as pd\n",
    "from scipy import stats\n",
    "from risk_measure import *"
   ]
  },
  {
   "cell_type": "code",
   "execution_count": 2,
   "metadata": {},
   "outputs": [
    {
     "name": "stdout",
     "output_type": "stream",
     "text": [
      "        \u001b[1;32mdef\u001b[0m \u001b[0mCDF\u001b[0m\u001b[1;33m(\u001b[0m\u001b[0mself\u001b[0m\u001b[1;33m,\u001b[0m \u001b[0mx\u001b[0m\u001b[1;33m)\u001b[0m\u001b[1;33m:\u001b[0m\u001b[1;33m\n",
      "\u001b[0m            \u001b[1;32mreturn\u001b[0m \u001b[0mself\u001b[0m\u001b[1;33m.\u001b[0m\u001b[0m_distribution\u001b[0m\u001b[1;33m.\u001b[0m\u001b[0mcdf\u001b[0m\u001b[1;33m(\u001b[0m\u001b[0mx\u001b[0m\u001b[1;33m)\u001b[0m\u001b[1;33m\u001b[0m\u001b[1;33m\u001b[0m\u001b[0m\n"
     ]
    }
   ],
   "source": [
    "# The quantile function is simply the inverse CDF of a distribution\n",
    "%psource RiskMeasure.Parametric.CDF"
   ]
  },
  {
   "cell_type": "code",
   "execution_count": 3,
   "metadata": {},
   "outputs": [
    {
     "name": "stdout",
     "output_type": "stream",
     "text": [
      "        \u001b[1;32mdef\u001b[0m \u001b[0mvalueAtRisk\u001b[0m\u001b[1;33m(\u001b[0m\u001b[0mself\u001b[0m\u001b[1;33m,\u001b[0m \u001b[0malpha\u001b[0m\u001b[1;33m=\u001b[0m\u001b[1;36m0.05\u001b[0m\u001b[1;33m,\u001b[0m \u001b[1;33m**\u001b[0m\u001b[0mkwargs\u001b[0m\u001b[1;33m)\u001b[0m\u001b[1;33m:\u001b[0m\u001b[1;33m\n",
      "\u001b[0m            \u001b[0mdistribution\u001b[0m \u001b[1;33m=\u001b[0m \u001b[0mself\u001b[0m\u001b[1;33m.\u001b[0m\u001b[0m_distribution\u001b[0m\u001b[1;33m\n",
      "\u001b[0m            \u001b[0mvalueAtRisk\u001b[0m \u001b[1;33m=\u001b[0m \u001b[0mdistribution\u001b[0m\u001b[1;33m.\u001b[0m\u001b[0mppf\u001b[0m\u001b[1;33m(\u001b[0m\u001b[0mq\u001b[0m\u001b[1;33m=\u001b[0m\u001b[0malpha\u001b[0m\u001b[1;33m,\u001b[0m\u001b[1;33m**\u001b[0m\u001b[0mkwargs\u001b[0m\u001b[1;33m)\u001b[0m\u001b[1;33m\n",
      "\u001b[0m            \u001b[1;32mreturn\u001b[0m \u001b[0mvalueAtRisk\u001b[0m\u001b[1;33m\u001b[0m\u001b[1;33m\u001b[0m\u001b[0m\n"
     ]
    }
   ],
   "source": [
    "# Value at Risk\n",
    "%psource RiskMeasure.Parametric.valueAtRisk"
   ]
  },
  {
   "cell_type": "code",
   "execution_count": 4,
   "metadata": {},
   "outputs": [
    {
     "name": "stdout",
     "output_type": "stream",
     "text": [
      "        \u001b[1;32mdef\u001b[0m \u001b[0mexpectedShortfall\u001b[0m\u001b[1;33m(\u001b[0m\u001b[0mself\u001b[0m\u001b[1;33m,\u001b[0m \u001b[0malpha\u001b[0m\u001b[1;33m=\u001b[0m\u001b[1;36m0.05\u001b[0m\u001b[1;33m,\u001b[0m \u001b[1;33m**\u001b[0m\u001b[0mkwargs\u001b[0m\u001b[1;33m)\u001b[0m\u001b[1;33m:\u001b[0m\u001b[1;33m\n",
      "\u001b[0m            \u001b[0mdistribution\u001b[0m \u001b[1;33m=\u001b[0m \u001b[0mself\u001b[0m\u001b[1;33m.\u001b[0m\u001b[0m_distribution\u001b[0m\u001b[1;33m\n",
      "\u001b[0m            \u001b[0mvalueAtRisk\u001b[0m \u001b[1;33m=\u001b[0m \u001b[0mself\u001b[0m\u001b[1;33m.\u001b[0m\u001b[0mvalueAtRisk\u001b[0m\u001b[1;33m(\u001b[0m\u001b[0malpha\u001b[0m\u001b[1;33m,\u001b[0m \u001b[1;33m**\u001b[0m\u001b[0mkwargs\u001b[0m\u001b[1;33m)\u001b[0m\u001b[1;33m\n",
      "\u001b[0m\u001b[1;33m\n",
      "\u001b[0m            \u001b[1;32mif\u001b[0m \u001b[0misinstance\u001b[0m\u001b[1;33m(\u001b[0m\u001b[0mdistribution\u001b[0m\u001b[1;33m,\u001b[0m \u001b[0mstats\u001b[0m\u001b[1;33m.\u001b[0m\u001b[0mrv_discrete\u001b[0m\u001b[1;33m)\u001b[0m\u001b[1;33m:\u001b[0m\u001b[1;33m\n",
      "\u001b[0m                \u001b[0mfirstTerm\u001b[0m \u001b[1;33m=\u001b[0m \u001b[0mdistribution\u001b[0m\u001b[1;33m.\u001b[0m\u001b[0mexpect\u001b[0m\u001b[1;33m(\u001b[0m\u001b[1;32mlambda\u001b[0m \u001b[0mx\u001b[0m\u001b[1;33m:\u001b[0m \u001b[1;33m-\u001b[0m\u001b[0mx\u001b[0m\u001b[1;33m,\u001b[0m \u001b[0mub\u001b[0m\u001b[1;33m=\u001b[0m\u001b[0mvalueAtRisk\u001b[0m\u001b[1;33m,\u001b[0m \u001b[0mconditional\u001b[0m\u001b[1;33m=\u001b[0m\u001b[1;32mTrue\u001b[0m\u001b[1;33m,\u001b[0m \u001b[0margs\u001b[0m\u001b[1;33m=\u001b[0m\u001b[1;33m(\u001b[0m\u001b[0mkwargs\u001b[0m\u001b[1;33m.\u001b[0m\u001b[0mvalues\u001b[0m\u001b[1;33m(\u001b[0m\u001b[1;33m)\u001b[0m\u001b[1;33m)\u001b[0m \u001b[1;33m)\u001b[0m \u001b[1;31m# mind the order of value in \"**kwargs\"\u001b[0m\u001b[1;33m\n",
      "\u001b[0m            \u001b[1;32melse\u001b[0m\u001b[1;33m:\u001b[0m \u001b[0mfirstTerm\u001b[0m \u001b[1;33m=\u001b[0m \u001b[0mdistribution\u001b[0m\u001b[1;33m.\u001b[0m\u001b[0mexpect\u001b[0m\u001b[1;33m(\u001b[0m\u001b[1;32mlambda\u001b[0m \u001b[0mx\u001b[0m\u001b[1;33m:\u001b[0m \u001b[1;33m-\u001b[0m\u001b[0mx\u001b[0m\u001b[1;33m,\u001b[0m \u001b[0mub\u001b[0m\u001b[1;33m=\u001b[0m\u001b[0mvalueAtRisk\u001b[0m\u001b[1;33m,\u001b[0m \u001b[0mconditional\u001b[0m\u001b[1;33m=\u001b[0m\u001b[1;32mTrue\u001b[0m\u001b[1;33m,\u001b[0m \u001b[1;33m**\u001b[0m\u001b[0mkwargs\u001b[0m \u001b[1;33m)\u001b[0m \u001b[1;31m# Thanks to an amazing library - scipy\u001b[0m\u001b[1;33m\n",
      "\u001b[0m            \u001b[0malphaHat\u001b[0m \u001b[1;33m=\u001b[0m \u001b[1;36m1\u001b[0m \u001b[1;33m-\u001b[0m \u001b[0mdistribution\u001b[0m\u001b[1;33m.\u001b[0m\u001b[0mcdf\u001b[0m\u001b[1;33m(\u001b[0m\u001b[0mdistribution\u001b[0m\u001b[1;33m.\u001b[0m\u001b[0mppf\u001b[0m\u001b[1;33m(\u001b[0m\u001b[1;36m1\u001b[0m\u001b[1;33m-\u001b[0m\u001b[0malpha\u001b[0m\u001b[1;33m,\u001b[0m\u001b[1;33m**\u001b[0m\u001b[0mkwargs\u001b[0m \u001b[1;33m)\u001b[0m\u001b[1;33m,\u001b[0m\u001b[1;33m**\u001b[0m\u001b[0mkwargs\u001b[0m \u001b[1;33m)\u001b[0m\u001b[1;33m\n",
      "\u001b[0m            \u001b[0msecondTerm\u001b[0m \u001b[1;33m=\u001b[0m \u001b[1;33m-\u001b[0m\u001b[0mvalueAtRisk\u001b[0m\u001b[1;33m*\u001b[0m\u001b[1;33m(\u001b[0m \u001b[0malphaHat\u001b[0m \u001b[1;33m-\u001b[0m \u001b[0malpha\u001b[0m \u001b[1;33m)\u001b[0m\u001b[1;33m\n",
      "\u001b[0m            \u001b[1;33m\n",
      "\u001b[0m            \u001b[0mexpectedShortfall\u001b[0m \u001b[1;33m=\u001b[0m \u001b[1;33m-\u001b[0m\u001b[1;33m(\u001b[0m\u001b[0mfirstTerm\u001b[0m \u001b[1;33m+\u001b[0m \u001b[0msecondTerm\u001b[0m\u001b[1;33m)\u001b[0m\u001b[1;33m\n",
      "\u001b[0m            \u001b[1;32mreturn\u001b[0m \u001b[0mexpectedShortfall\u001b[0m\u001b[1;33m\u001b[0m\u001b[1;33m\u001b[0m\u001b[0m\n"
     ]
    }
   ],
   "source": [
    "# Expected Shortfall\n",
    "%psource RiskMeasure.Parametric.expectedShortfall"
   ]
  },
  {
   "cell_type": "code",
   "execution_count": 5,
   "metadata": {},
   "outputs": [
    {
     "name": "stdout",
     "output_type": "stream",
     "text": [
      "The value at risk of the standard normal distribution at 95% confidentblevel is -1.6448536269514729\n",
      "The expected shortfall of the standard normal distribution at 95% confidentblevel is -2.0627128078189143\n"
     ]
    }
   ],
   "source": [
    "print(\"The value at risk of the standard normal distribution at 95% confidentblevel is\", RiskMeasure.Parametric(stats.norm).valueAtRisk(alpha=0.05))\n",
    "print(\"The expected shortfall of the standard normal distribution at 95% confidentblevel is\", RiskMeasure.Parametric(stats.norm).expectedShortfall(alpha=0.05))"
   ]
  },
  {
   "cell_type": "markdown",
   "metadata": {},
   "source": [
    "## Let's compare\n",
    "\n",
    "The parametric method and the non-parametric method\n",
    "- First, simulate random numbers with a specific distribution\n",
    "- use the non-parametric method with the numbers and compare with the parametric method"
   ]
  },
  {
   "cell_type": "markdown",
   "metadata": {},
   "source": [
    "### Exponential Distribution"
   ]
  },
  {
   "cell_type": "code",
   "execution_count": 6,
   "metadata": {},
   "outputs": [
    {
     "name": "stdout",
     "output_type": "stream",
     "text": [
      "The value at risk by the simulation method is  0.21109151861322278\n",
      "The expected shortfall by the simulation method is  0.10405204792909421\n",
      "The value at risk by the parametric method is  0.21072103131565262\n",
      "The expected shortfall by the parametric method is  0.1035107181591266\n"
     ]
    }
   ],
   "source": [
    "# random numbers\n",
    "np.random.seed(42)\n",
    "randExpo = np.random.exponential(scale=2, size=1000000)\n",
    "\n",
    "VaR_expo_sim = RiskMeasure.NonParametric(randExpo).valueAtRisk(alpha=0.1)\n",
    "ES_expo_sim = RiskMeasure.NonParametric(randExpo).expectedShortfall(alpha=0.1)\n",
    "print(\"The value at risk by the simulation method is \", VaR_expo_sim)\n",
    "print(\"The expected shortfall by the simulation method is \", ES_expo_sim)\n",
    "\n",
    "VaR_expo_para = RiskMeasure.Parametric(stats.expon).valueAtRisk(scale=2, alpha=0.1)\n",
    "ES_expo_para = RiskMeasure.Parametric(stats.expon).expectedShortfall(scale=2, alpha=0.1)\n",
    "print(\"The value at risk by the parametric method is \", VaR_expo_para)\n",
    "print(\"The expected shortfall by the parametric method is \", ES_expo_para)"
   ]
  },
  {
   "cell_type": "markdown",
   "metadata": {},
   "source": [
    "### Normal Distribution"
   ]
  },
  {
   "cell_type": "code",
   "execution_count": null,
   "metadata": {},
   "outputs": [
    {
     "name": "stdout",
     "output_type": "stream",
     "text": [
      "The value at risk by the simulation method is  3.714523869376157\n",
      "The expected shortfall by the simulation method is  3.714523869376157\n",
      "The value at risk by the parametric method is  3.7184484344553996\n",
      "The expected shortfall by the parametric method is  3.245016680675133\n"
     ]
    }
   ],
   "source": [
    "randNorm = np.random.normal(loc=5,scale=1, size=1000000)\n",
    "\n",
    "VaR_norm_sim = RiskMeasure.NonParametric(randNorm).valueAtRisk(alpha=0.1)\n",
    "ES_norm_sim = RiskMeasure.NonParametric(randNorm).valueAtRisk(alpha=0.1)\n",
    "print(\"The value at risk by the simulation method is \", VaR_norm_sim)\n",
    "print(\"The expected shortfall by the simulation method is \", ES_norm_sim)\n",
    "\n",
    "VaR_norm_para = RiskMeasure.Parametric(stats.norm).valueAtRisk(loc=5, scale=1, alpha=0.1)\n",
    "ES_norm_para = RiskMeasure.Parametric(stats.norm).expectedShortfall(loc=5, scale=1, alpha=0.1)\n",
    "print(\"The value at risk by the parametric method is \", VaR_norm_para)\n",
    "print(\"The expected shortfall by the parametric method is \", ES_norm_para)"
   ]
  },
  {
   "cell_type": "markdown",
   "metadata": {},
   "source": [
    "### Binomial Distribution"
   ]
  },
  {
   "cell_type": "code",
   "execution_count": 8,
   "metadata": {},
   "outputs": [
    {
     "name": "stdout",
     "output_type": "stream",
     "text": [
      "The value at risk by the simulation method is  86.0\n",
      "The expected shortfall by the simulation method is  81.98462\n",
      "The value at risk by the parametric method is  86.0\n",
      "The expected shortfall by the parametric method is  82.4170731911514\n"
     ]
    }
   ],
   "source": [
    "randBin = np.random.binomial(n=300,p=0.32,size=1000000)\n",
    "\n",
    "VAR_bin_sim = RiskMeasure.NonParametric(randBin).valueAtRisk(alpha=0.1)\n",
    "ES_bin_sim = RiskMeasure.NonParametric(randBin).expectedShortfall(alpha=0.1)\n",
    "print(\"The value at risk by the simulation method is \", VAR_bin_sim)\n",
    "print(\"The expected shortfall by the simulation method is \", ES_bin_sim)\n",
    "\n",
    "VAR_bin_para = RiskMeasure.Parametric(stats.binom).valueAtRisk(n=300, p=0.32, alpha=0.1)\n",
    "ES_bin_para = RiskMeasure.Parametric(stats.binom).expectedShortfall(n=300, p=0.32, alpha=0.1)\n",
    "print(\"The value at risk by the parametric method is \", VAR_bin_para)\n",
    "print(\"The expected shortfall by the parametric method is \", ES_bin_para)"
   ]
  }
 ],
 "metadata": {
  "kernelspec": {
   "display_name": "base",
   "language": "python",
   "name": "python3"
  },
  "language_info": {
   "codemirror_mode": {
    "name": "ipython",
    "version": 3
   },
   "file_extension": ".py",
   "mimetype": "text/x-python",
   "name": "python",
   "nbconvert_exporter": "python",
   "pygments_lexer": "ipython3",
   "version": "3.11.5"
  }
 },
 "nbformat": 4,
 "nbformat_minor": 2
}
