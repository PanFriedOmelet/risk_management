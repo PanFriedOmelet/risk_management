{
 "cells": [
  {
   "cell_type": "code",
   "execution_count": 2,
   "metadata": {},
   "outputs": [],
   "source": [
    "import numpy as np"
   ]
  },
  {
   "cell_type": "markdown",
   "metadata": {},
   "source": [
    "### Quantile\n",
    "\n",
    "### V@R\n",
    "\n",
    "### Expected Shortfall"
   ]
  },
  {
   "cell_type": "code",
   "execution_count": 9,
   "metadata": {},
   "outputs": [
    {
     "name": "stdout",
     "output_type": "stream",
     "text": [
      "[0.  2.3 3.  3.  3.1 4.5 5.8 6.  6.7]\n",
      "int index 7\n"
     ]
    },
    {
     "data": {
      "text/plain": [
       "0.8205128205128206"
      ]
     },
     "execution_count": 9,
     "metadata": {},
     "output_type": "execute_result"
    }
   ],
   "source": [
    "# quantile finction\n",
    "# threshold = x (capital x)\n",
    "def quantile_non_para(data, x):\n",
    "    data = np.array(data)\n",
    "    sorted_data = np.sort(data)\n",
    "    list_data = list(sorted_data)\n",
    "\n",
    "    for i in range(0,len(data)-1):\n",
    "        if (sorted_data[i] > x) & (sorted_data[i+1] != sorted_data[i]): # This condition checks the next position\n",
    "            partial_index = (x-sorted_data[i-1])/(sorted_data[i] - sorted_data[i-1]) # assume that the risk between two samples is uniform\n",
    "            integer_index = i \n",
    "            print(\"int index\",integer_index)\n",
    "            position = integer_index + partial_index\n",
    "            break\n",
    "        \n",
    "        elif (sorted_data[i] == x) & (sorted_data[i+1] != sorted_data[i]): # This condition checks this exact position\n",
    "            integer_index = i + 1\n",
    "            position = integer_index\n",
    "            break\n",
    "\n",
    "    quantile = position/len(data)\n",
    "    return quantile\n",
    "\n",
    "\n",
    "array = [0,3,3,3.1,4.5,6,2.3,6.7,5.8]#np.arange(0,100)\n",
    "print(np.sort(array))\n",
    "quantile_non_para(array,5)"
   ]
  },
  {
   "cell_type": "code",
   "execution_count": 79,
   "metadata": {},
   "outputs": [
    {
     "name": "stdout",
     "output_type": "stream",
     "text": [
      "[0.  2.3 3.  3.  3.1 4.5 5.8 6.  6.7]\n",
      "3.1\n",
      "4\n",
      "pos 2\n",
      "0.5970149253731343\n"
     ]
    }
   ],
   "source": [
    "data = [0,3,3,3.1,4.5,6,2.3,6.7,5.8]\n",
    "# data = np.arange(1,101)\n",
    "data = np.array(data)\n",
    "sorted_data = np.sort(data)\n",
    "list_data = list(sorted_data)\n",
    "x = 3.0\n",
    "print(sorted_data)\n",
    "for i in range(0,len(data)-1):\n",
    "    if (sorted_data[i] > x) & (sorted_data[i+1] != sorted_data[i]):\n",
    "        partial_index = (x-sorted_data[i-1])/(sorted_data[i] - sorted_data[i-1])\n",
    "        integer_index = list_data.index(sorted_data[i-1]) + 1\n",
    "        position = integer_index + partial_index\n",
    "        print(position)\n",
    "        print(\"pos 1\")\n",
    "        break\n",
    "    elif (sorted_data[i] == x) & (sorted_data[i+1] != sorted_data[i]):\n",
    "        integer_index = i + 1\n",
    "        position = integer_index\n",
    "        print(sorted_data[i+1])\n",
    "        print(position)\n",
    "        print(\"pos 2\")\n",
    "        break\n",
    "\n",
    "quantile = position/sorted_data[-1]\n",
    "    # elif sorted_data[i] > x:\n",
    "print(quantile)"
   ]
  },
  {
   "cell_type": "code",
   "execution_count": null,
   "metadata": {},
   "outputs": [],
   "source": [
    "# V@R\n",
    "\n",
    "def var_non_para(data, X, alpha):\n",
    "    data = np.array(data)\n",
    "    return 0\n"
   ]
  }
 ],
 "metadata": {
  "kernelspec": {
   "display_name": "base",
   "language": "python",
   "name": "python3"
  },
  "language_info": {
   "codemirror_mode": {
    "name": "ipython",
    "version": 3
   },
   "file_extension": ".py",
   "mimetype": "text/x-python",
   "name": "python",
   "nbconvert_exporter": "python",
   "pygments_lexer": "ipython3",
   "version": "3.11.5"
  }
 },
 "nbformat": 4,
 "nbformat_minor": 2
}
